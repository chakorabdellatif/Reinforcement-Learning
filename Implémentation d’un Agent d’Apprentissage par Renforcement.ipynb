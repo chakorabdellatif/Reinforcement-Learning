{
 "cells": [
  {
   "cell_type": "code",
   "execution_count": 11,
   "id": "bee6955b-d3e5-4726-ac49-cbec962641d2",
   "metadata": {},
   "outputs": [
    {
     "name": "stdout",
     "output_type": "stream",
     "text": [
      "Shortest path to the treasure: ['DOWN', 'DOWN', 'DOWN', 'RIGHT', 'RIGHT']\n"
     ]
    }
   ],
   "source": [
    "# environment\n",
    "grid = [\n",
    "    ['S', ' ', ' ', ' ', ' '],\n",
    "    [' ', 'P', ' ', 'P', ' '],\n",
    "    [' ', ' ', ' ', ' ', ' '],\n",
    "    [' ', ' ', 'T', ' ', ' '],\n",
    "    [' ', ' ', ' ', ' ', ' ']\n",
    "]\n",
    "\n",
    "# les movements possible\n",
    "movements = [(-1, 0, 'UP'), (1, 0, 'DOWN'), (0, -1, 'LEFT'), (0, 1, 'RIGHT')]\n",
    "\n",
    "# Function to find the shortest path using BFS \n",
    "def shortest_path(grid):\n",
    "    rows, cols = len(grid), len(grid[0])\n",
    "    start = (0, 0)  \n",
    "    queue = [(start, [])]  \n",
    "    visited = set() \n",
    "\n",
    "    while queue:\n",
    "        (x, y), path = queue.pop(0)  \n",
    "\n",
    "        # Check if we reached the treasure\n",
    "        if grid[x][y] == 'T':\n",
    "            return path  \n",
    "\n",
    "        # Mark the current position as visited\n",
    "        visited.add((x, y))\n",
    "\n",
    "        # Explore all possible movements\n",
    "        for dx, dy, action in movements:\n",
    "            nx, ny = x + dx, y + dy\n",
    "            if 0 <= nx < rows and 0 <= ny < cols:  \n",
    "                if (nx, ny) not in visited and grid[nx][ny] != 'P':  \n",
    "                    queue.append(((nx, ny), path + [action]))  \n",
    "\n",
    "    return None  \n",
    "\n",
    "# test\n",
    "shortest_path = shortest_path(grid)\n",
    "if shortest_path:\n",
    "    print(\"Shortest path to the treasure:\", shortest_path)\n",
    "else:\n",
    "    print(\"No path to the treasure found.\")"
   ]
  }
 ],
 "metadata": {
  "kernelspec": {
   "display_name": "Python 3 (ipykernel)",
   "language": "python",
   "name": "python3"
  },
  "language_info": {
   "codemirror_mode": {
    "name": "ipython",
    "version": 3
   },
   "file_extension": ".py",
   "mimetype": "text/x-python",
   "name": "python",
   "nbconvert_exporter": "python",
   "pygments_lexer": "ipython3",
   "version": "3.12.4"
  }
 },
 "nbformat": 4,
 "nbformat_minor": 5
}
